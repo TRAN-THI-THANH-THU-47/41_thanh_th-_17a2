{
 "cells": [
  {
   "cell_type": "code",
   "execution_count": 1,
   "metadata": {},
   "outputs": [
    {
     "name": "stdout",
     "output_type": "stream",
     "text": [
      "Dữ liệu nhiệt độ trong tháng: [15.18 34.64 27.48 22.28 24.16 23.36 34.63 26.02 34.23 22.5  24.45 20.72\n",
      " 19.44 16.1  26.6  21.29 28.84 21.02 25.21 24.59 21.09 32.42 31.45 24.02\n",
      " 32.53 31.3  21.42 16.52 22.97 26.81]\n",
      "Nhiệt độ trung bình: 25.108999999999995\n"
     ]
    }
   ],
   "source": [
    "import numpy as np\n",
    "# Tạo mảng dữ liệu \n",
    "nhiet_do = np.round(np.random.uniform(low=15, high=35, size=30), 2)\n",
    "# Tính nhiệt độ trung bình trong tháng\n",
    "nhiet_do_tb = np.mean(nhiet_do)\n",
    "print(\"Dữ liệu nhiệt độ trong tháng:\", nhiet_do)\n",
    "print(\"Nhiệt độ trung bình:\", nhiet_do_tb)"
   ]
  },
  {
   "cell_type": "code",
   "execution_count": 2,
   "metadata": {},
   "outputs": [
    {
     "name": "stdout",
     "output_type": "stream",
     "text": [
      "Ngày có nhiệt độ cao nhất: 2\n",
      "Ngày có nhiệt độ thấp nhất: 1\n",
      "Ngày có sự chênh lệch nhiệt độ cao nhất: 1\n"
     ]
    }
   ],
   "source": [
    "# Xác định ngày có nhiệt độ cao nhất, thấp nhất\n",
    "ngay_nhiet_do_cao_nhat = np.argmax(nhiet_do) + 1\n",
    "ngay_nhiet_do_thap_nhat = np.argmin(nhiet_do) + 1\n",
    "# Tính sự chênh lệch nhiệt độ giữa các ngày\n",
    "chenh_lech_nhiet_do = np.abs(np.diff(nhiet_do))\n",
    "ngay_chenh_lech_cao_nhat = np.argmax(chenh_lech_nhiet_do) + 1\n",
    "print(f\"Ngày có nhiệt độ cao nhất: {ngay_nhiet_do_cao_nhat}\")\n",
    "print(f\"Ngày có nhiệt độ thấp nhất: {ngay_nhiet_do_thap_nhat}\")\n",
    "print(f\"Ngày có sự chênh lệch nhiệt độ cao nhất: {ngay_chenh_lech_cao_nhat}\")"
   ]
  },
  {
   "cell_type": "code",
   "execution_count": 3,
   "metadata": {},
   "outputs": [
    {
     "name": "stdout",
     "output_type": "stream",
     "text": [
      "Ngày có nhiệt độ cao hơn 20 độ C: [ 2  3  4  5  6  7  8  9 10 11 12 15 16 17 18 19 20 21 22 23 24 25 26 27\n",
      " 29 30]\n",
      "Nhiệt độ của các ngày 5, 10, 15, 20, 25: [24.16 22.5  26.6  24.59 32.53]\n",
      "Ngày có nhiệt độ trên trung bình: [ 2  3  7  8  9 15 17 19 22 23 25 26 30]\n",
      "Nhiệt độ ngày chẵn: [34.64 22.28 23.36 26.02 22.5  20.72 16.1  21.29 21.02 24.59 32.42 24.02\n",
      " 31.3  16.52 26.81]\n",
      "Nhiệt độ ngày lẻ: [15.18 27.48 24.16 34.63 34.23 24.45 19.44 26.6  28.84 25.21 21.09 31.45\n",
      " 32.53 21.42 22.97]\n"
     ]
    }
   ],
   "source": [
    "# Các ngày có nhiệt độ cao hơn 20 độ C\n",
    "ngay_nhiet_do_cao_hon_20 = np.where(nhiet_do > 20)[0] + 1\n",
    "# Nhiệt độ của các ngày 5, 10, 15, 20, 25\n",
    "nhiet_do_cac_ngay = nhiet_do[[4, 9, 14, 19, 24]]\n",
    "# Nhiệt độ của các ngày có nhiệt độ trên trung bình\n",
    "ngay_nhiet_do_tren_tb = np.where(nhiet_do > nhiet_do_tb)[0] + 1\n",
    "\n",
    "# Nhiệt độ của các ngày chẵn/lẻ\n",
    "nhiet_do_ngay_chan = nhiet_do[1::2]\n",
    "nhiet_do_ngay_le = nhiet_do[0::2]\n",
    "\n",
    "print(\"Ngày có nhiệt độ cao hơn 20 độ C:\", ngay_nhiet_do_cao_hon_20)\n",
    "print(\"Nhiệt độ của các ngày 5, 10, 15, 20, 25:\", nhiet_do_cac_ngay)\n",
    "print(\"Ngày có nhiệt độ trên trung bình:\", ngay_nhiet_do_tren_tb)\n",
    "print(\"Nhiệt độ ngày chẵn:\", nhiet_do_ngay_chan)\n",
    "print(\"Nhiệt độ ngày lẻ:\", nhiet_do_ngay_le)"
   ]
  }
 ],
 "metadata": {
  "kernelspec": {
   "display_name": "base",
   "language": "python",
   "name": "python3"
  },
  "language_info": {
   "codemirror_mode": {
    "name": "ipython",
    "version": 3
   },
   "file_extension": ".py",
   "mimetype": "text/x-python",
   "name": "python",
   "nbconvert_exporter": "python",
   "pygments_lexer": "ipython3",
   "version": "3.12.4"
  }
 },
 "nbformat": 4,
 "nbformat_minor": 2
}
