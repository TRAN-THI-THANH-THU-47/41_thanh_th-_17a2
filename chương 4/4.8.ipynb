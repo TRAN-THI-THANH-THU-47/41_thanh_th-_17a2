{
 "cells": [
  {
   "cell_type": "code",
   "execution_count": 1,
   "metadata": {},
   "outputs": [],
   "source": [
    "import numpy as np\n",
    "import pandas as pd"
   ]
  },
  {
   "cell_type": "code",
   "execution_count": 2,
   "metadata": {},
   "outputs": [
    {
     "name": "stdout",
     "output_type": "stream",
     "text": [
      "0     Part 10\n",
      "1      Part 3\n",
      "2      Part 9\n",
      "3      Part 5\n",
      "4      Part 1\n",
      "5      Part 9\n",
      "6      Part 4\n",
      "7      Part 1\n",
      "8      Part 8\n",
      "9      Part 2\n",
      "10     Part 6\n",
      "11     Part 7\n",
      "12     Part 3\n",
      "13    Part 10\n",
      "14     Part 8\n",
      "15     Part 4\n",
      "16     Part 2\n",
      "17     Part 7\n",
      "18     Part 6\n",
      "19     Part 5\n",
      "dtype: category\n",
      "Categories (10, object): ['Part 1' < 'Part 2' < 'Part 3' < 'Part 4' ... 'Part 7' < 'Part 8' < 'Part 9' < 'Part 10']\n"
     ]
    }
   ],
   "source": [
    "ser = pd.Series(np.random.random(20))\n",
    "\n",
    "# Chia thành 10 phần và thay thế giá trị bằng tên các phân vị\n",
    "categories = pd.qcut(ser, 10, labels=[f\"Part {i+1}\" for i in range(10)])\n",
    "print(categories)"
   ]
  }
 ],
 "metadata": {
  "kernelspec": {
   "display_name": "Python 3",
   "language": "python",
   "name": "python3"
  },
  "language_info": {
   "codemirror_mode": {
    "name": "ipython",
    "version": 3
   },
   "file_extension": ".py",
   "mimetype": "text/x-python",
   "name": "python",
   "nbconvert_exporter": "python",
   "pygments_lexer": "ipython3",
   "version": "3.12.0"
  }
 },
 "nbformat": 4,
 "nbformat_minor": 2
}
