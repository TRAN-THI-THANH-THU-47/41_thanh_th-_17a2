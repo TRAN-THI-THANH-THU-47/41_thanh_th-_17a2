{
 "cells": [
  {
   "cell_type": "code",
   "execution_count": 1,
   "metadata": {},
   "outputs": [],
   "source": [
    "import pandas as pd\n"
   ]
  },
  {
   "cell_type": "code",
   "execution_count": 2,
   "metadata": {},
   "outputs": [
    {
     "name": "stdout",
     "output_type": "stream",
     "text": [
      "Result from ser1: 1    1\n",
      "3    3\n",
      "dtype: int64\n",
      "Result from ser2: 1    b\n",
      "3    d\n",
      "dtype: object\n"
     ]
    }
   ],
   "source": [
    "\n",
    "# Dữ liệu đầu vào\n",
    "ser1 = pd.Series(range(5))\n",
    "ser2 = pd.Series(list('abcde'))\n",
    "\n",
    "# Danh sách vị trí\n",
    "pos = [1, 3]\n",
    "\n",
    "# Trích xuất các mục\n",
    "result = ser1.iloc[pos]\n",
    "print(\"Result from ser1:\", result)\n",
    "\n",
    "result = ser2.iloc[pos]\n",
    "print(\"Result from ser2:\", result)\n"
   ]
  }
 ],
 "metadata": {
  "kernelspec": {
   "display_name": "Python 3",
   "language": "python",
   "name": "python3"
  },
  "language_info": {
   "codemirror_mode": {
    "name": "ipython",
    "version": 3
   },
   "file_extension": ".py",
   "mimetype": "text/x-python",
   "name": "python",
   "nbconvert_exporter": "python",
   "pygments_lexer": "ipython3",
   "version": "3.12.0"
  }
 },
 "nbformat": 4,
 "nbformat_minor": 2
}
