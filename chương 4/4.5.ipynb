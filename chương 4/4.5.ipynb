{
 "cells": [
  {
   "cell_type": "code",
   "execution_count": 1,
   "metadata": {},
   "outputs": [],
   "source": [
    "import numpy as np\n",
    "import pandas as pd\n"
   ]
  },
  {
   "cell_type": "code",
   "execution_count": 2,
   "metadata": {},
   "outputs": [
    {
     "name": "stdout",
     "output_type": "stream",
     "text": [
      "Minimum: 2.976833156072148\n",
      "25th Percentile: 9.10803399392626\n",
      "Median: 10.576410509429094\n",
      "75th Percentile: 12.802391779064884\n",
      "Maximum: 18.2877381152924\n"
     ]
    }
   ],
   "source": [
    "# Tạo Series\n",
    "ser = pd.Series(np.random.normal(10, 5, 25))\n",
    "\n",
    "# 1. Giá trị tối thiểu (minimum)\n",
    "min_value = ser.min()\n",
    "print(\"Minimum:\", min_value)\n",
    "\n",
    "# 2. Phân vị thứ 25 (25th percentile)\n",
    "percentile_25 = ser.quantile(0.25)\n",
    "print(\"25th Percentile:\", percentile_25)\n",
    "\n",
    "# 3. Trung vị (median)\n",
    "median_value = ser.median()\n",
    "print(\"Median:\", median_value)\n",
    "\n",
    "# 4. Phân vị thứ 75 (75th percentile)\n",
    "percentile_75 = ser.quantile(0.75)\n",
    "print(\"75th Percentile:\", percentile_75)\n",
    "\n",
    "# 5. Giá trị tối đa (maximum)\n",
    "max_value = ser.max()\n",
    "print(\"Maximum:\", max_value)\n"
   ]
  }
 ],
 "metadata": {
  "kernelspec": {
   "display_name": "Python 3",
   "language": "python",
   "name": "python3"
  },
  "language_info": {
   "codemirror_mode": {
    "name": "ipython",
    "version": 3
   },
   "file_extension": ".py",
   "mimetype": "text/x-python",
   "name": "python",
   "nbconvert_exporter": "python",
   "pygments_lexer": "ipython3",
   "version": "3.12.0"
  }
 },
 "nbformat": 4,
 "nbformat_minor": 2
}
