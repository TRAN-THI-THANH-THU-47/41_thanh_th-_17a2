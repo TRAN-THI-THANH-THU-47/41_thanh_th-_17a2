{
 "cells": [
  {
   "cell_type": "code",
   "execution_count": 1,
   "metadata": {},
   "outputs": [],
   "source": [
    "import numpy as np\n",
    "import pandas as pd"
   ]
  },
  {
   "cell_type": "code",
   "execution_count": 2,
   "metadata": {},
   "outputs": [
    {
     "name": "stdout",
     "output_type": "stream",
     "text": [
      "0         1\n",
      "1         1\n",
      "2         4\n",
      "3         4\n",
      "4         4\n",
      "5         4\n",
      "6         1\n",
      "7     Other\n",
      "8     Other\n",
      "9         1\n",
      "10    Other\n",
      "11    Other\n",
      "dtype: object\n"
     ]
    }
   ],
   "source": [
    "np.random.seed(100)\n",
    "ser = pd.Series(np.random.randint(1, 5, 12))\n",
    "\n",
    "# Lấy 2 giá trị có tần suất cao nhất và thay các giá trị khác bằng 'Other'\n",
    "top2 = ser.value_counts().nlargest(2).index\n",
    "ser = ser.apply(lambda x: x if x in top2 else 'Other')\n",
    "print(ser)\n"
   ]
  }
 ],
 "metadata": {
  "kernelspec": {
   "display_name": "Python 3",
   "language": "python",
   "name": "python3"
  },
  "language_info": {
   "codemirror_mode": {
    "name": "ipython",
    "version": 3
   },
   "file_extension": ".py",
   "mimetype": "text/x-python",
   "name": "python",
   "nbconvert_exporter": "python",
   "pygments_lexer": "ipython3",
   "version": "3.12.0"
  }
 },
 "nbformat": 4,
 "nbformat_minor": 2
}
