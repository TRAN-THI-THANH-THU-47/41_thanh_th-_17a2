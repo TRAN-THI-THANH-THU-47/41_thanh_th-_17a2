{
 "cells": [
  {
   "cell_type": "code",
   "execution_count": 1,
   "metadata": {},
   "outputs": [],
   "source": [
    "import pandas as pd"
   ]
  },
  {
   "cell_type": "code",
   "execution_count": 2,
   "metadata": {},
   "outputs": [
    {
     "name": "stdout",
     "output_type": "stream",
     "text": [
      "Vertical:\n",
      " 0    10\n",
      "1     9\n",
      "2     6\n",
      "3     5\n",
      "4     3\n",
      "5     1\n",
      "6    12\n",
      "7     8\n",
      "8    13\n",
      "0     1\n",
      "1     3\n",
      "2    10\n",
      "3    13\n",
      "dtype: int64\n",
      "Horizontal:\n",
      "     0     1\n",
      "0  10   1.0\n",
      "1   9   3.0\n",
      "2   6  10.0\n",
      "3   5  13.0\n",
      "4   3   NaN\n",
      "5   1   NaN\n",
      "6  12   NaN\n",
      "7   8   NaN\n",
      "8  13   NaN\n"
     ]
    }
   ],
   "source": [
    "# Dữ liệu đầu vào\n",
    "ser1 = pd.Series([10, 9, 6, 5, 3, 1, 12, 8, 13])\n",
    "ser2 = pd.Series([1, 3, 10, 13])\n",
    "\n",
    "# Sắp xếp theo chiều dọc\n",
    "vertical = pd.concat([ser1, ser2], axis=0)\n",
    "print(\"Vertical:\\n\", vertical)\n",
    "\n",
    "# Sắp xếp theo chiều ngang\n",
    "horizontal = pd.concat([ser1, ser2], axis=1)\n",
    "print(\"Horizontal:\\n\", horizontal)\n"
   ]
  }
 ],
 "metadata": {
  "kernelspec": {
   "display_name": "Python 3",
   "language": "python",
   "name": "python3"
  },
  "language_info": {
   "codemirror_mode": {
    "name": "ipython",
    "version": 3
   },
   "file_extension": ".py",
   "mimetype": "text/x-python",
   "name": "python",
   "nbconvert_exporter": "python",
   "pygments_lexer": "ipython3",
   "version": "3.12.0"
  }
 },
 "nbformat": 4,
 "nbformat_minor": 2
}
